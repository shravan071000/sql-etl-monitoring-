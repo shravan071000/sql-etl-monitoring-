{
  "nbformat": 4,
  "nbformat_minor": 0,
  "metadata": {
    "colab": {
      "provenance": []
    },
    "kernelspec": {
      "name": "python3",
      "display_name": "Python 3"
    },
    "language_info": {
      "name": "python"
    }
  },
  "cells": [
    {
      "cell_type": "code",
      "execution_count": null,
      "metadata": {
        "id": "ZxfP8vgIDQTl"
      },
      "outputs": [],
      "source": [
        "import smtplib\n",
        "import pyodbc\n",
        "\n",
        "conn = pyodbc.connect('DRIVER={SQL Server};SERVER=localhost;DATABASE=ETLDB;UID=sa;PWD=your_password')\n",
        "cursor = conn.cursor()\n",
        "\n",
        "cursor.execute(\"\"\"\n",
        "    SELECT JobName, ErrorMessage, StartTime FROM ETLJobStatus\n",
        "    WHERE Status = 'Failed' AND StartTime >= DATEADD(HOUR, -24, GETDATE())\n",
        "\"\"\")\n",
        "failed_jobs = cursor.fetchall()\n",
        "\n",
        "if failed_jobs:\n",
        "    message = \"\\n\".join([f\"{row.JobName} failed at {row.StartTime} with error: {row.ErrorMessage}\" for row in failed_jobs])\n",
        "\n",
        "    server = smtplib.SMTP('smtp.yourmailserver.com', 587)\n",
        "    server.starttls()\n",
        "    server.login('your_email@example.com', 'your_password')\n",
        "    server.sendmail('your_email@example.com', 'admin@example.com', f\"Subject: ETL Job Failure Alert\\n\\n{message}\")\n",
        "    server.quit()\n"
      ]
    }
  ]
}